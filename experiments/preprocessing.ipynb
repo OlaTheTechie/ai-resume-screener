{
 "cells": [
  {
   "cell_type": "code",
   "execution_count": 1,
   "id": "a4830070",
   "metadata": {},
   "outputs": [
    {
     "name": "stderr",
     "output_type": "stream",
     "text": [
      "/home/boladimeji/Desktop/projects/ai-resume-screener/venv/lib/python3.10/site-packages/tqdm/auto.py:21: TqdmWarning: IProgress not found. Please update jupyter and ipywidgets. See https://ipywidgets.readthedocs.io/en/stable/user_install.html\n",
      "  from .autonotebook import tqdm as notebook_tqdm\n"
     ]
    }
   ],
   "source": [
    "from sentence_transformers import SentenceTransformer, util\n"
   ]
  },
  {
   "cell_type": "code",
   "execution_count": 4,
   "id": "1d61e792",
   "metadata": {},
   "outputs": [],
   "source": [
    "import spacy\n",
    "\n",
    "nlp = spacy.load(\"en_core_web_sm\")\n"
   ]
  },
  {
   "cell_type": "code",
   "execution_count": 3,
   "id": "52672167",
   "metadata": {},
   "outputs": [],
   "source": [
    "sample_text = 'Oladimeji Balogun\\n+2347041397674 | boladimeji834@gmail.com | www.linkedin.com/in/oladimeji-balogun |\\nwww.github.com/OlaTheTechie\\nSummary\\nI’m a data scientist and AI/ML engineer with proven experience using data to solve real-world problems. I build models\\nthat help people make better decisions, especially in healthcare, finance, and customer service. I’m good at working with\\nnumbers, finding patterns, and using tools like machine learning and cloud platforms. I enjoy working with different teams\\nand can explain technical ideas in simple terms.\\nSkills\\nProgramming Languages: Python, JavaScript\\nMachine Learning Frameworks: TensorFlow, PyTorch, Scikit-learn\\nData Analysis & Visualization: Pandas, NumPy, Matplotlib, Seaborn\\nStatistical Analysis: Hypothesis testing, regression analysis\\nCloud & big data: Azure, AWS\\nDeployment: FastAPI, Heroku\\nDevelopment Tools: Git, Jupyter Notebook, Visual Studio Code\\nWork Experience\\nKowrry Health Kaduna, Nigeria\\nData Scientist / Machine Learning Engineer Jan 2025 – Mar 2025\\n• Developed an AI-driven healthcare chatbot using LangGraph and GPT 3.5, reducing patient support workload by 25%\\nwhile improving experience by 40%.\\n• Led a team in integrating LLM-based customer support systems, boosting response accuracy and efficiency.\\nMy Health Integral Lagos, Nigeria\\nData Scientist / Machine Learning Engineer Jul 2024 – Dec 2024\\n• Worked with a team to improve a medical language model (Open-BIO LLM), making it more accurate for healthcare\\nuse.\\n• Analyzed patient feedback using sentiment analysis, leading to a 25% increase in overall patient satisfaction.\\n• Conducted sentiment analysis on patient feedback, improving satisfaction.\\n• Built machine learning models to help doctors make better decisions, which led to a 15% improvement in patient\\ntreatment outcomes.\\nKode10x Lagos, Nigeria\\nML Engineer Jun 2024 – Sep 2024\\n• Created natural language processing (NLP) tools to understand customer feedback, which helped increase customer\\nretention.\\n• Built AI systems to process financial data more accurately, helping teams make better business decisions.\\nHamoye Remote\\nData Science Intern Mar 2024 - Jun 2024\\n• Led a team project, presenting findings to stakeholders with clear, actionable insights.\\n• Performed large-scale data visualization using Matplotlib and Seaborn, improving reporting clarity.\\n• Communicated complex technical findings to non-technical team members, ensuring project alignment and facilitating\\nbetter collaboration\\n• Presented the capstone project to a group of stakeholders\\n• Served as the team lead in my group throughout the internship\\nEnactus FUTA Akure, Nigeria\\nVolunteer Financial Analyst Mar 2024 - Present\\n• Collaborated on financial reports to enhance transparency and decision-making, resulting in more informed strategicplanning\\nEducation\\nFederal University of Technology Akure\\nBachelor of Technology, Computer Science Oct 2026\\nWorldQuant University\\nData Science Hons, Applied Data Science Dec 2024\\nCertifications\\nData Science and Machine Learning Certificate DSN X Microsoft\\nPowerCo Data Science Sim Certificate (Virtual) Forage\\nLinkedIn AI Career Essentials LinkedIn\\nApplied Data Science Certificate WQU\\nAI/ML Engineering Certificate RemoDesk\\nAdditional Information\\n\\uf0b7 Remote Work Experience: Extensive collaboration with distributed teams across multiple time zones.\\n\\uf0b7 Publications & Projects: Developed AI-driven medical chatbots, fine-tuned LLMs, and created financial predictive\\nmodels.\\n\\uf0b7 Soft Skills: Strong communicator, analytical thinker, and problem solver.'\n"
   ]
  },
  {
   "cell_type": "code",
   "execution_count": 10,
   "id": "8fb0d29f",
   "metadata": {},
   "outputs": [
    {
     "data": {
      "text/plain": [
       "oladimeji balogun\n",
       "+2347041397674 | boladimeji834@gmail.com | www.linkedin.com/in/oladimeji-balogun |\n",
       "www.github.com/olathetechie\n",
       "summary\n",
       "i’m a data scientist and ai/ml engineer with proven experience using data to solve real-world problems. i build models\n",
       "that help people make better decisions, especially in healthcare, finance, and customer service. i’m good at working with\n",
       "numbers, finding patterns, and using tools like machine learning and cloud platforms. i enjoy working with different teams\n",
       "and can explain technical ideas in simple terms.\n",
       "skills\n",
       "programming languages: python, javascript\n",
       "machine learning frameworks: tensorflow, pytorch, scikit-learn\n",
       "data analysis & visualization: pandas, numpy, matplotlib, seaborn\n",
       "statistical analysis: hypothesis testing, regression analysis\n",
       "cloud & big data: azure, aws\n",
       "deployment: fastapi, heroku\n",
       "development tools: git, jupyter notebook, visual studio code\n",
       "work experience\n",
       "kowrry health kaduna, nigeria\n",
       "data scientist / machine learning engineer jan 2025 – mar 2025\n",
       "• developed an ai-driven healthcare chatbot using langgraph and gpt 3.5, reducing patient support workload by 25%\n",
       "while improving experience by 40%.\n",
       "• led a team in integrating llm-based customer support systems, boosting response accuracy and efficiency.\n",
       "my health integral lagos, nigeria\n",
       "data scientist / machine learning engineer jul 2024 – dec 2024\n",
       "• worked with a team to improve a medical language model (open-bio llm), making it more accurate for healthcare\n",
       "use.\n",
       "• analyzed patient feedback using sentiment analysis, leading to a 25% increase in overall patient satisfaction.\n",
       "• conducted sentiment analysis on patient feedback, improving satisfaction.\n",
       "• built machine learning models to help doctors make better decisions, which led to a 15% improvement in patient\n",
       "treatment outcomes.\n",
       "kode10x lagos, nigeria\n",
       "ml engineer jun 2024 – sep 2024\n",
       "• created natural language processing (nlp) tools to understand customer feedback, which helped increase customer\n",
       "retention.\n",
       "• built ai systems to process financial data more accurately, helping teams make better business decisions.\n",
       "hamoye remote\n",
       "data science intern mar 2024 - jun 2024\n",
       "• led a team project, presenting findings to stakeholders with clear, actionable insights.\n",
       "• performed large-scale data visualization using matplotlib and seaborn, improving reporting clarity.\n",
       "• communicated complex technical findings to non-technical team members, ensuring project alignment and facilitating\n",
       "better collaboration\n",
       "• presented the capstone project to a group of stakeholders\n",
       "• served as the team lead in my group throughout the internship\n",
       "enactus futa akure, nigeria\n",
       "volunteer financial analyst mar 2024 - present\n",
       "• collaborated on financial reports to enhance transparency and decision-making, resulting in more informed strategicplanning\n",
       "education\n",
       "federal university of technology akure\n",
       "bachelor of technology, computer science oct 2026\n",
       "worldquant university\n",
       "data science hons, applied data science dec 2024\n",
       "certifications\n",
       "data science and machine learning certificate dsn x microsoft\n",
       "powerco data science sim certificate (virtual) forage\n",
       "linkedin ai career essentials linkedin\n",
       "applied data science certificate wqu\n",
       "ai/ml engineering certificate remodesk\n",
       "additional information\n",
       " remote work experience: extensive collaboration with distributed teams across multiple time zones.\n",
       " publications & projects: developed ai-driven medical chatbots, fine-tuned llms, and created financial predictive\n",
       "models.\n",
       " soft skills: strong communicator, analytical thinker, and problem solver."
      ]
     },
     "execution_count": 10,
     "metadata": {},
     "output_type": "execute_result"
    }
   ],
   "source": [
    "# tokeniation in english\n",
    "doc = nlp(sample_text.lower())\n",
    "doc"
   ]
  },
  {
   "cell_type": "code",
   "execution_count": 19,
   "id": "b3ed5b34",
   "metadata": {},
   "outputs": [
    {
     "data": {
      "text/plain": [
       "[oladimeji,\n",
       " balogun,\n",
       " ,\n",
       " +2347041397674,\n",
       " |,\n",
       " boladimeji834@gmail.com,\n",
       " |,\n",
       " www.linkedin.com/in/oladimeji-balogun,\n",
       " |,\n",
       " ]"
      ]
     },
     "execution_count": 19,
     "metadata": {},
     "output_type": "execute_result"
    }
   ],
   "source": [
    "tokens = [token for token in doc if not token.is_stop and  not token.is_punct]\n",
    "\n",
    "cleaned_text = \" \".join(token.lemma_ for token in tokens).strip()\n",
    "tokens[:10]"
   ]
  },
  {
   "cell_type": "code",
   "execution_count": null,
   "id": "70d4ee44",
   "metadata": {},
   "outputs": [],
   "source": []
  },
  {
   "cell_type": "code",
   "execution_count": null,
   "id": "5fe53ea9",
   "metadata": {},
   "outputs": [],
   "source": [
    "\n",
    "def preprocess_text(text: str) -> str:\n",
    "    \"\"\"\n",
    "    Preprocess text by:\n",
    "    - Lowercasing\n",
    "    - Removing extra whitespace\n",
    "    - Lemmatizing tokens\n",
    "    - Removing stopwords and punctuation\n",
    "    \"\"\"\n",
    "    doc = nlp(text.lower())\n",
    "    tokens = [token.lemma_ for token in doc if not token.is_stop and not token.is_punct]\n",
    "    return ' '.join(tokens).strip()\n"
   ]
  },
  {
   "cell_type": "code",
   "execution_count": null,
   "id": "e9848209",
   "metadata": {},
   "outputs": [],
   "source": []
  }
 ],
 "metadata": {
  "kernelspec": {
   "display_name": "venv",
   "language": "python",
   "name": "python3"
  },
  "language_info": {
   "codemirror_mode": {
    "name": "ipython",
    "version": 3
   },
   "file_extension": ".py",
   "mimetype": "text/x-python",
   "name": "python",
   "nbconvert_exporter": "python",
   "pygments_lexer": "ipython3",
   "version": "3.10.12"
  }
 },
 "nbformat": 4,
 "nbformat_minor": 5
}
