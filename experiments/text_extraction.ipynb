{
 "cells": [
  {
   "cell_type": "code",
   "execution_count": 2,
   "id": "17623486",
   "metadata": {},
   "outputs": [],
   "source": [
    "import pdfplumber\n",
    "from docx import Document"
   ]
  },
  {
   "cell_type": "code",
   "execution_count": null,
   "id": "875ce39f",
   "metadata": {},
   "outputs": [
    {
     "name": "stderr",
     "output_type": "stream",
     "text": [
      "CropBox missing from /Page, defaulting to MediaBox\n",
      "CropBox missing from /Page, defaulting to MediaBox\n"
     ]
    },
    {
     "name": "stdout",
     "output_type": "stream",
     "text": [
      "<class 'pdfplumber.pdf.PDF'>\n"
     ]
    },
    {
     "data": {
      "text/plain": [
       "'Oladimeji Balogun\\n+2347041397674 | boladimeji834@gmail.com | www.linkedin.com/in/oladimeji-balogun |\\nwww.github.com/OlaTheTechie\\nSummary\\nI’m a data scientist and AI/ML engineer with proven experience using data to solve real-world problems. I build models\\nthat help people make better decisions, especially in healthcare, finance, and customer service. I’m good at working with\\nnumbers, finding patterns, and using tools like machine learning and cloud platforms. I enjoy working with different teams\\nand can explain technical ideas in simple terms.\\nSkills\\nProgramming Languages: Python, JavaScript\\nMachine Learning Frameworks: TensorFlow, PyTorch, Scikit-learn\\nData Analysis & Visualization: Pandas, NumPy, Matplotlib, Seaborn\\nStatistical Analysis: Hypothesis testing, regression analysis\\nCloud & big data: Azure, AWS\\nDeployment: FastAPI, Heroku\\nDevelopment Tools: Git, Jupyter Notebook, Visual Studio Code\\nWork Experience\\nKowrry Health Kaduna, Nigeria\\nData Scientist / Machine Learning Engineer Jan 2025 – Mar 2025\\n• Developed an AI-driven healthcare chatbot using LangGraph and GPT 3.5, reducing patient support workload by 25%\\nwhile improving experience by 40%.\\n• Led a team in integrating LLM-based customer support systems, boosting response accuracy and efficiency.\\nMy Health Integral Lagos, Nigeria\\nData Scientist / Machine Learning Engineer Jul 2024 – Dec 2024\\n• Worked with a team to improve a medical language model (Open-BIO LLM), making it more accurate for healthcare\\nuse.\\n• Analyzed patient feedback using sentiment analysis, leading to a 25% increase in overall patient satisfaction.\\n• Conducted sentiment analysis on patient feedback, improving satisfaction.\\n• Built machine learning models to help doctors make better decisions, which led to a 15% improvement in patient\\ntreatment outcomes.\\nKode10x Lagos, Nigeria\\nML Engineer Jun 2024 – Sep 2024\\n• Created natural language processing (NLP) tools to understand customer feedback, which helped increase customer\\nretention.\\n• Built AI systems to process financial data more accurately, helping teams make better business decisions.\\nHamoye Remote\\nData Science Intern Mar 2024 - Jun 2024\\n• Led a team project, presenting findings to stakeholders with clear, actionable insights.\\n• Performed large-scale data visualization using Matplotlib and Seaborn, improving reporting clarity.\\n• Communicated complex technical findings to non-technical team members, ensuring project alignment and facilitating\\nbetter collaboration\\n• Presented the capstone project to a group of stakeholders\\n• Served as the team lead in my group throughout the internship\\nEnactus FUTA Akure, Nigeria\\nVolunteer Financial Analyst Mar 2024 - Present\\n• Collaborated on financial reports to enhance transparency and decision-making, resulting in more informed strategicplanning\\nEducation\\nFederal University of Technology Akure\\nBachelor of Technology, Computer Science Oct 2026\\nWorldQuant University\\nData Science Hons, Applied Data Science Dec 2024\\nCertifications\\nData Science and Machine Learning Certificate DSN X Microsoft\\nPowerCo Data Science Sim Certificate (Virtual) Forage\\nLinkedIn AI Career Essentials LinkedIn\\nApplied Data Science Certificate WQU\\nAI/ML Engineering Certificate RemoDesk\\nAdditional Information\\n\\uf0b7 Remote Work Experience: Extensive collaboration with distributed teams across multiple time zones.\\n\\uf0b7 Publications & Projects: Developed AI-driven medical chatbots, fine-tuned LLMs, and created financial predictive\\nmodels.\\n\\uf0b7 Soft Skills: Strong communicator, analytical thinker, and problem solver.'"
      ]
     },
     "execution_count": 5,
     "metadata": {},
     "output_type": "execute_result"
    }
   ],
   "source": [
    "pdf_path = \"../data/OladimejiBalogunResume.pdf\"\n",
    "pdf_text = \"\"\n",
    "pdf = pdfplumber.open(pdf_path)\n",
    "\n",
    "print(type(pdf))\n",
    "for page in pdf.pages: \n",
    "    pdf_text += page.extract_text()\n",
    "\n",
    "pdf_text"
   ]
  },
  {
   "cell_type": "code",
   "execution_count": 10,
   "id": "ea83fac7",
   "metadata": {},
   "outputs": [],
   "source": [
    "docx_file = \"../data/ola.docx\"\n",
    "\n",
    "docx = Document(docx=docx_file)\n",
    "docx\n",
    "\n",
    "docx_text = \"\".join([p.text for p in docx.paragraphs])"
   ]
  },
  {
   "cell_type": "code",
   "execution_count": 13,
   "id": "5c65a858",
   "metadata": {},
   "outputs": [
    {
     "data": {
      "text/plain": [
       "' '"
      ]
     },
     "execution_count": 13,
     "metadata": {},
     "output_type": "execute_result"
    }
   ],
   "source": [
    "# texts from pdf files\n",
    "def extract_text_from_pdf(file) -> str:\n",
    "    text = \"\"\n",
    "    with pdfplumber.open(file) as pdf:\n",
    "        for page in pdf.pages:\n",
    "            text += page.extract_text() or \"\"\n",
    "    return text\n",
    "\n",
    "\n",
    "# texts from docx files\n",
    "def extract_text_from_docx(file: str) -> str: \n",
    "    text = \" \"\n",
    "    docx = Document(file)\n",
    "    text.join([p.text for p in docx.paragraphs])\n",
    "    return text\n",
    "extract_text_from_docx(docx_file)"
   ]
  },
  {
   "cell_type": "code",
   "execution_count": null,
   "id": "e27fefee",
   "metadata": {},
   "outputs": [],
   "source": []
  },
  {
   "cell_type": "code",
   "execution_count": 15,
   "id": "baaf676e",
   "metadata": {},
   "outputs": [],
   "source": [
    "# extract from .txt files\n",
    "def extract_text_from_file(file) -> str:\n",
    "    # file can be a Streamlit UploadedFile or a path string\n",
    "    if hasattr(file, 'name'):\n",
    "        ext = os.path.splitext(file.name)[1].lower()\n",
    "    else:\n",
    "        ext = os.path.splitext(file)[1].lower()\n",
    "\n",
    "    if ext == '.pdf':\n",
    "        return extract_text_from_pdf(file)\n",
    "    elif ext == '.docx':\n",
    "        return extract_text_from_docx(file)\n",
    "    elif ext == '.txt':\n",
    "        try:\n",
    "            if hasattr(file, 'read'):\n",
    "                return file.read().decode('utf-8')\n",
    "            else:\n",
    "                with open(file, 'r', encoding='utf-8') as f:\n",
    "                    return f.read()\n",
    "        except Exception as e:\n",
    "            print(f\"Error reading text file: {e}\")\n",
    "            return \"\"\n",
    "    else:\n",
    "        raise ValueError(f\"Unsupported file format: {ext}\")\n"
   ]
  }
 ],
 "metadata": {
  "kernelspec": {
   "display_name": "venv",
   "language": "python",
   "name": "python3"
  },
  "language_info": {
   "codemirror_mode": {
    "name": "ipython",
    "version": 3
   },
   "file_extension": ".py",
   "mimetype": "text/x-python",
   "name": "python",
   "nbconvert_exporter": "python",
   "pygments_lexer": "ipython3",
   "version": "3.10.12"
  }
 },
 "nbformat": 4,
 "nbformat_minor": 5
}
